{
 "cells": [
  {
   "cell_type": "code",
   "execution_count": 1,
   "id": "19e7ca01",
   "metadata": {},
   "outputs": [],
   "source": [
    "import pandas as pd # To load files and perform tasks\n",
    "import numpy as np # linear algebra\n",
    "import seaborn as sns  # data visualizations\n",
    "import matplotlib.pyplot as plt # data visualizations"
   ]
  },
  {
   "cell_type": "code",
   "execution_count": 3,
   "id": "150862b7",
   "metadata": {},
   "outputs": [],
   "source": [
    "df = pd.read_csv('Final.csv', encoding='cp1252')"
   ]
  },
  {
   "cell_type": "code",
   "execution_count": 4,
   "id": "53ed73ed",
   "metadata": {},
   "outputs": [
    {
     "data": {
      "text/html": [
       "<div>\n",
       "<style scoped>\n",
       "    .dataframe tbody tr th:only-of-type {\n",
       "        vertical-align: middle;\n",
       "    }\n",
       "\n",
       "    .dataframe tbody tr th {\n",
       "        vertical-align: top;\n",
       "    }\n",
       "\n",
       "    .dataframe thead th {\n",
       "        text-align: right;\n",
       "    }\n",
       "</style>\n",
       "<table border=\"1\" class=\"dataframe\">\n",
       "  <thead>\n",
       "    <tr style=\"text-align: right;\">\n",
       "      <th></th>\n",
       "      <th>Rating</th>\n",
       "      <th>Company</th>\n",
       "      <th>Average</th>\n",
       "      <th>Lowest</th>\n",
       "      <th>Highest</th>\n",
       "      <th>yr/mo/hr</th>\n",
       "    </tr>\n",
       "  </thead>\n",
       "  <tbody>\n",
       "    <tr>\n",
       "      <th>0</th>\n",
       "      <td>3.6</td>\n",
       "      <td>Tech Mahindra</td>\n",
       "      <td>937156</td>\n",
       "      <td>4,18,054</td>\n",
       "      <td>23,35,432</td>\n",
       "      <td>/yr</td>\n",
       "    </tr>\n",
       "    <tr>\n",
       "      <th>1</th>\n",
       "      <td>3.7</td>\n",
       "      <td>Optum</td>\n",
       "      <td>1508702</td>\n",
       "      <td>8,87,265</td>\n",
       "      <td>24,00,000</td>\n",
       "      <td>/yr</td>\n",
       "    </tr>\n",
       "    <tr>\n",
       "      <th>2</th>\n",
       "      <td>4.1</td>\n",
       "      <td>Fresher</td>\n",
       "      <td>540557</td>\n",
       "      <td>1,89,354</td>\n",
       "      <td>14,72,751</td>\n",
       "      <td>/yr</td>\n",
       "    </tr>\n",
       "    <tr>\n",
       "      <th>3</th>\n",
       "      <td>3.7</td>\n",
       "      <td>HCL Technologies</td>\n",
       "      <td>887986</td>\n",
       "      <td>4,16,339</td>\n",
       "      <td>19,26,785</td>\n",
       "      <td>/yr</td>\n",
       "    </tr>\n",
       "    <tr>\n",
       "      <th>4</th>\n",
       "      <td>3.9</td>\n",
       "      <td>Genpact</td>\n",
       "      <td>972181</td>\n",
       "      <td>2,49,195</td>\n",
       "      <td>23,82,853</td>\n",
       "      <td>/yr</td>\n",
       "    </tr>\n",
       "  </tbody>\n",
       "</table>\n",
       "</div>"
      ],
      "text/plain": [
       "   Rating           Company  Average    Lowest    Highest yr/mo/hr\n",
       "0     3.6     Tech Mahindra   937156  4,18,054  23,35,432      /yr\n",
       "1     3.7             Optum  1508702  8,87,265  24,00,000      /yr\n",
       "2     4.1           Fresher   540557  1,89,354  14,72,751      /yr\n",
       "3     3.7  HCL Technologies   887986  4,16,339  19,26,785      /yr\n",
       "4     3.9           Genpact   972181  2,49,195  23,82,853      /yr"
      ]
     },
     "execution_count": 4,
     "metadata": {},
     "output_type": "execute_result"
    }
   ],
   "source": [
    "df.head()"
   ]
  },
  {
   "cell_type": "code",
   "execution_count": 5,
   "id": "31d546df",
   "metadata": {},
   "outputs": [
    {
     "name": "stdout",
     "output_type": "stream",
     "text": [
      "<class 'pandas.core.frame.DataFrame'>\n",
      "RangeIndex: 4100 entries, 0 to 4099\n",
      "Data columns (total 6 columns):\n",
      " #   Column    Non-Null Count  Dtype  \n",
      "---  ------    --------------  -----  \n",
      " 0   Rating    3854 non-null   float64\n",
      " 1   Company   4100 non-null   object \n",
      " 2   Average   4100 non-null   object \n",
      " 3   Lowest    4100 non-null   object \n",
      " 4   Highest   4100 non-null   object \n",
      " 5   yr/mo/hr  4100 non-null   object \n",
      "dtypes: float64(1), object(5)\n",
      "memory usage: 192.3+ KB\n"
     ]
    }
   ],
   "source": [
    "df.info()"
   ]
  },
  {
   "cell_type": "code",
   "execution_count": null,
   "id": "41592a6a",
   "metadata": {},
   "outputs": [],
   "source": []
  }
 ],
 "metadata": {
  "kernelspec": {
   "display_name": "Python 3 (ipykernel)",
   "language": "python",
   "name": "python3"
  },
  "language_info": {
   "codemirror_mode": {
    "name": "ipython",
    "version": 3
   },
   "file_extension": ".py",
   "mimetype": "text/x-python",
   "name": "python",
   "nbconvert_exporter": "python",
   "pygments_lexer": "ipython3",
   "version": "3.10.2"
  }
 },
 "nbformat": 4,
 "nbformat_minor": 5
}
